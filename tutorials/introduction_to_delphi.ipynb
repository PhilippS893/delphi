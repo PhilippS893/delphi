{
 "cells": [
  {
   "cell_type": "markdown",
   "id": "1c5aa164-c9fe-4506-a62f-da96be16f34f",
   "metadata": {},
   "source": [
    "# Basic usage of the delphi toolbox"
   ]
  },
  {
   "cell_type": "code",
   "execution_count": 1,
   "id": "9d9ff40c-3fdb-4c18-aac0-74167a78d498",
   "metadata": {},
   "outputs": [],
   "source": [
    "import os\n",
    "import torch"
   ]
  },
  {
   "cell_type": "markdown",
   "id": "6da53b27-849f-415b-aaf9-c28018ceb029",
   "metadata": {},
   "source": [
    "## 1. Installing the delphi package"
   ]
  },
  {
   "cell_type": "markdown",
   "id": "5ba18b3e-b351-465e-bbb4-3bf67a70c0cb",
   "metadata": {},
   "source": [
    "The delphi toolbox currently needs to be installed manually. </br>"
   ]
  },
  {
   "cell_type": "markdown",
   "id": "730c21c1-7498-467d-a5a6-ed1acba66ad3",
   "metadata": {},
   "source": [
    "## 2. Using the NiftiDataset and PyTorch DataLoader class to load data"
   ]
  },
  {
   "cell_type": "code",
   "execution_count": 2,
   "id": "aefbb95a-858c-4cad-aa2d-f592f6a7065a",
   "metadata": {},
   "outputs": [],
   "source": [
    "from torch.utils.data import DataLoader\n",
    "from delphi.utils.datasets import NiftiDataset\n",
    "from delphi.utils.tools import ToTensor"
   ]
  },
  {
   "cell_type": "markdown",
   "id": "e0ad3ad1-33ee-4789-ba87-32a373436847",
   "metadata": {},
   "source": [
    "I recommend using the same structure for your data as shown in the figure below. <br/>\n",
    "This indicates that there are three classes each containing 4 subjects within the training and testing data splits and makes it easy using certain code to determine, for example, the class labels. \n",
    "\n",
    "<img src=\"./figs/data_struct.png\" width=\"100\" height=\"200\" style=\"margin:auto\"/>\n",
    "\n",
    "The following list describes which variables you should set to be able to easily use the `NiftiDataset`class.\n",
    "1. Set the paths to the test and training set (see `path_to_train_data` below).\n",
    "2. Define the names of the classes (i.e., the class labels) you would like to use for your training and testing.\n",
    "3. Define which device (i.e., the cpu or gpu) you would like to use to train your model. This is important since the data and the model are required to be used by the same device. Otherwise the code will result in an error. Keep this in mind!\n",
    "4. Assign all variables to the `NiftiDataset` class and define in the class call how many samples from your dataset you want to use. Tipp: If you want to use ALL data in the respective class directories use the value `0`.\n",
    "5. You will encounter a `ToTensor()` command in the code block below. The data and labels need to be saved in a so-called PyTorch Tensor format. The `transform=ToTensor()` takes care of that for you.\n",
    "    "
   ]
  },
  {
   "cell_type": "code",
   "execution_count": 3,
   "id": "787d1e04-40cc-47c3-ada5-3343b20bc6ee",
   "metadata": {},
   "outputs": [],
   "source": [
    "# Step 1\n",
    "path_to_train_data = './data/train_split' # where is the training data located\n",
    "path_to_test_data = './data/test_split' # where is the test data located\n",
    "\n",
    "# Step 2\n",
    "classes_to_load = ['class1', 'class2', 'classN'] # which classes should be loaded\n",
    "\n",
    "# Step 3\n",
    "device = torch.device('cpu') # on which hardware (cpu/gpu) should the data be used\n",
    "\n",
    "# Step 4\n",
    "# NiftiDataset(path_to_train_data, classes_to_load, #_files_to_load, device, transform=ToTensor())\n",
    "dataset = NiftiDataset(path_to_train_data, classes_to_load, 2, device, transform=ToTensor())"
   ]
  },
  {
   "cell_type": "markdown",
   "id": "8e432d21-24c7-40db-ad92-0ce19c127e80",
   "metadata": {},
   "source": [
    "The `dataset` structure/class contains a few important attributes (i.e., variables):\n",
    "1. `dataset.classes` provides the classes you set equal to `classes_to_load`\n",
    "2. `dataset.data` provides the paths to the data. \n",
    "3. `dataset.labels` provides the data-label mapping. \n",
    "4. `dataset.dims` provides the dimensions of the data (default: 3)\n",
    "\n",
    "Alright. Let us now look at what the we have stored in the `dataset` class. </br>\n",
    "We can access the saved variables with the `.` indicator, e.g., `dataset.classes` will provide us with the information which classes the dataset contains. Note: these should be identical to the variable `classes_to_load` that we set before. </br>\n",
    "You might be wondering if we can use strings as labels. The quick answer is: no. BUT the `NiftDataset` class, for now, only holds information about the data we want to use. The labels will be transformed into numbers when single/multiple datapoints are indeed loaded. The code block below demonstrates how this works.\n",
    "</br>"
   ]
  },
  {
   "cell_type": "code",
   "execution_count": 4,
   "id": "e47b0881-873a-4794-9135-71c18c2ab09e",
   "metadata": {},
   "outputs": [
    {
     "name": "stdout",
     "output_type": "stream",
     "text": [
      "Classes of the data: ['class1', 'class2', 'classN']\n",
      "\n",
      "Paths to the data:  ['./data/train_split/class1/sub100206.nii.gz'\n",
      " './data/train_split/class1/sub102614.nii.gz'\n",
      " './data/train_split/class2/sub100206.nii.gz'\n",
      " './data/train_split/class2/sub102614.nii.gz'\n",
      " './data/train_split/classN/sub100206.nii.gz'\n",
      " './data/train_split/classN/sub102614.nii.gz']\n",
      "\n",
      "Labels:  ['class1' 'class1' 'class2' 'class2' 'classN' 'classN']\n",
      "\n",
      "Shape of the loaded item: torch.Size([1, 91, 109, 91]) \n",
      "Label of the loaded item: tensor(0) \n",
      "\n",
      "Loading data using NiftiDataset\n",
      "Entry 0 torch.Size([1, 91, 109, 91]) tensor(0)\n",
      "Entry 1 torch.Size([1, 91, 109, 91]) tensor(0)\n",
      "Entry 2 torch.Size([1, 91, 109, 91]) tensor(1)\n",
      "Entry 3 torch.Size([1, 91, 109, 91]) tensor(1)\n",
      "Entry 4 torch.Size([1, 91, 109, 91]) tensor(2)\n",
      "Entry 5 torch.Size([1, 91, 109, 91]) tensor(2)\n",
      "\n",
      "\n",
      "Loading data using the PyTorch DataLoader supplied with the NiftiDataset\n",
      "Entry 0 torch.Size([2, 1, 91, 109, 91]) tensor([1, 2])\n",
      "Entry 1 torch.Size([2, 1, 91, 109, 91]) tensor([2, 0])\n",
      "Entry 2 torch.Size([2, 1, 91, 109, 91]) tensor([0, 1])\n"
     ]
    }
   ],
   "source": [
    "# show us some variables of the dataset\n",
    "print('Classes of the data:', dataset.classes)\n",
    "print('\\nPaths to the data: ', dataset.data)\n",
    "print('\\nLabels: ', dataset.labels)\n",
    "\n",
    "# let us load a single entry in the 'dataset' variable.\n",
    "# the function .__getitem__ is automatically called when the variable is used in a loop\n",
    "# as shown further below. Here we simply want to demonstrate that the data and label \n",
    "item, label = dataset.__getitem__(0)\n",
    "print('\\nShape of the loaded item:', item.shape, '\\nLabel of the loaded item:', label, '\\n')\n",
    "\n",
    "# if we wanted to loop over the entire dataset we can do the following:\n",
    "print('Loading data using NiftiDataset')\n",
    "for counter, (item, label) in enumerate(dataset):\n",
    "    # counter is the current loop iteration (starts at 0)\n",
    "    # item is the current item in the dataset, label the respective label\n",
    "    print('Entry', counter, item.shape, label)\n",
    "\n",
    "print('\\n')\n",
    "    \n",
    "# Pytorch comes with handy functionality for data loading. We can supply the NiftiDataset\n",
    "# to this functionality as well and it is recommended doing so since other functions \n",
    "# such as the fit() function will require you to supply a PyTorch DataLoader\n",
    "nifti_loader = DataLoader(dataset, batch_size=2, shuffle=True)\n",
    "print('Loading data using the PyTorch DataLoader supplied with the NiftiDataset')\n",
    "for counter, (items, labels) in enumerate(nifti_loader):\n",
    "    # in this example we load two items and two labels at once\n",
    "    # the number is determined by the batch_size we set in the DataLoader\n",
    "    print('Entry', counter, items.shape, labels)"
   ]
  },
  {
   "cell_type": "markdown",
   "id": "dbaa43b0-5efe-49ac-81ef-67fa7f229065",
   "metadata": {},
   "source": [
    "</br>\n",
    "That is already it! Quite simple, I hope. In practice you only have to define the parameters for the `NiftiDataset` and `DataLoader` classes. The loop you saw at the end is already implemented in the default training function of the `delphi` toolbox. <br/>\n",
    "However, if you were to write your own training function you would need to implement this function for yourself. Thus, we wanted to at least provide you with an example of how to do it here.\n",
    "</br>"
   ]
  },
  {
   "cell_type": "markdown",
   "id": "1b3a77a9-9f4e-43e4-bd1a-78dd994ecb8c",
   "metadata": {},
   "source": [
    "## 3. Creating a simple 3D-CNN"
   ]
  },
  {
   "cell_type": "markdown",
   "id": "16da1bbc-0719-4712-bc97-c537bc32a074",
   "metadata": {},
   "source": [
    "Let us now recreate a very simple convolutional neural network from my dissertational work that can handle 3-dimensional input, such as neuroimaging data. An illustration of the network is shown below:</br>\n",
    "\n",
    "<img src=\"./figs/architecture.svg\" style=\"margin:auto\">\n",
    "\n",
    "We will use the `BrainStateClassifier3d` from th `delphi.networks.ConvNets` subpackage. "
   ]
  },
  {
   "cell_type": "code",
   "execution_count": 5,
   "id": "75512960-4559-4f1e-9313-56a74cb1ff07",
   "metadata": {},
   "outputs": [],
   "source": [
    "from delphi.networks.ConvNets import BrainStateClassifier3d\n",
    "from torchinfo import summary # don't worry about this for now, this is to nicely print what our network looks like"
   ]
  },
  {
   "cell_type": "markdown",
   "id": "20290975-b080-45bd-86d7-84b07bfec9b4",
   "metadata": {},
   "source": [
    "There are multiple ways in which one can instantiate a `BrainStateClassifier3d` network. For now, we will stick with the simplest case. <br/>\n",
    "We will first define a configuration python `dict`. The code block below demonstrates how to do this. The goal is to have a CNN that takes a single whole-brain dataset as its input. The network it self is supposed to have 4 convolutional and 2 linear layers. We can do this by defining 2 important entries in the dictionary: the `channels` and `lin_neurons` entries as shown below:"
   ]
  },
  {
   "cell_type": "code",
   "execution_count": 6,
   "id": "b21f1efd-22d5-4bdb-aa91-c299b6c54350",
   "metadata": {},
   "outputs": [],
   "source": [
    "network_config = {\n",
    "    'channels': [1, 8, 16, 32, 64],\n",
    "    'lin_neurons': [128, 64]\n",
    "}"
   ]
  },
  {
   "cell_type": "markdown",
   "id": "72c32330-62cb-47ca-a542-24e4928c855f",
   "metadata": {},
   "source": [
    "These two lines represent the following:\n",
    "1. the `channels` entry conveys multiple meanings: <br/>\n",
    "First: the first number (here) `1` represents the input channels to the network. Since we said that we only want a single brain volume as input the number is `1` </br>\n",
    "Second: the remaining 4 numbers have two meanings. 1) the number of elements after the `1` tell the `BrainStateClassifier3d` class how many convolutional layers there should be in succession, and 2) the value of the numbers tell the `BrainStateClassifier3d` class how many filters the respective convolutional layer is supposed to have. \n",
    "2. the `lin_neurons` entry conveys a similar meaning, however, here the number of elements (i.e., 2) tells the `BrainStateClassifier3d` class how many linear (i.e., fully-connected) layers it is supposed to instantiate and with how many nodes (determined by the value of the numbers).\n",
    "\n",
    "Now, to create the `BrainStateClassifier3d` network, we also need to supply it information about the dimensions of the input data how many classes it needs to identify. The `input_dimensions` should be a tuple-type variable as seen in the code block below. The number of classes can easily be determined by the length of the classes variable (e.g., `classes_to_load` or `dataset.classes`).\n",
    "\n",
    "The code block below shows how to set these two variables."
   ]
  },
  {
   "cell_type": "code",
   "execution_count": 7,
   "id": "6aa07151-b68d-43a7-a0c9-5a892aaa918c",
   "metadata": {},
   "outputs": [],
   "source": [
    "input_dimensions = (91, 109, 91)\n",
    "n_classes = len(dataset.classes)"
   ]
  },
  {
   "cell_type": "markdown",
   "id": "1c997e4e-5ebd-4e14-b520-297e66fc5343",
   "metadata": {},
   "source": [
    "Now it is time for us to create the 3d-CNN! Only one single additional line of code is necessary to do so:"
   ]
  },
  {
   "cell_type": "code",
   "execution_count": 8,
   "id": "7c3fdacf-e580-4d0a-a826-6007e06490a6",
   "metadata": {},
   "outputs": [],
   "source": [
    "network = BrainStateClassifier3d(input_dimensions, n_classes, network_config) "
   ]
  },
  {
   "cell_type": "markdown",
   "id": "f59960e0-2728-4b5d-920a-f835fe9fef6a",
   "metadata": {},
   "source": [
    "That's it. Really. That really is it :-). \n",
    "\n",
    "Now, let us look what actually happened. The `network` class has two important features we need to take a look at: \n",
    "\n",
    "1. `network.config`: This attribute summarizes the values of the created network and we will take a look at this in a second.\n",
    "2. `network.fit()`: This function calls the default training function supplied by the delphi toolbox."
   ]
  },
  {
   "cell_type": "code",
   "execution_count": 9,
   "id": "3c3e4f9a-df8a-45fa-b41f-fcbb24151c48",
   "metadata": {},
   "outputs": [
    {
     "data": {
      "text/plain": [
       "{'channels': [1, 8, 16, 32, 64],\n",
       " 'lin_neurons': [128, 64],\n",
       " 'kernel_size': [5, 5, 5, 5],\n",
       " 'pooling_kernel': 2,\n",
       " 'dropout': 0.5,\n",
       " 'input_dims': (91, 109, 91),\n",
       " 'n_classes': 3,\n",
       " 'train_fn': <function delphi.utils.train_fns.standard_train(model, train_data: torch.utils.data.dataloader.DataLoader, loss_fn=CrossEntropyLoss(), optimizer=<class 'torch.optim.adam.Adam'>, lr: float = 1e-05, device: torch.device = device(type='cpu'), train=True, **optimizer_kwargs) -> Tuple[numpy.ndarray, numpy.ndarray]>,\n",
       " 'last_cnn_dims': [5, 6, 5]}"
      ]
     },
     "execution_count": 9,
     "metadata": {},
     "output_type": "execute_result"
    }
   ],
   "source": [
    "# Let us first take a look at the network.config attribute\n",
    "network.config"
   ]
  },
  {
   "cell_type": "markdown",
   "id": "0f341dbd-ca64-433c-b2a5-7f2d3fbc79b6",
   "metadata": {},
   "source": [
    "Ok, so we have some more information here!\n",
    "1. We see that the `channels` and `lin_neurons` elements are there as we set them.\n",
    "2. We see additional variables:</br>\n",
    "`kernel_size`: This variable describes the dimensions of the filters for the respective CNN-layer. And they seem to be set to the value '5' for all of them.</br>\n",
    "`pooling_kernel`: This is the factor by how much a pooling layer, that currently is always following a CNN-layer, decreases the current dimensions of the input. </br>\n",
    "`droput`: is a regularization variable important for the learning process and I recommend reading up on it. </br>\n",
    "`train_fn`: is a function handle to the default training function supplied by the delphi toolbox.</br>\n",
    "`last_cnn_dims`: is a variable that is not directly necessary for us to know but important for the internal workings of the code. It is here in case you need to double check if the output dimensions fit your expectations in the case you need to debug something.\n",
    "\n",
    "Every additional attribute/function you see above are the default settings for the delphi toolbox and can be overwritten as you wish. We will see how this works now.\n",
    "\n",
    "There are two ways in which you can adapt the architecture of your network:\n",
    "1. Use a `dict` variable as shown above\n",
    "2. Use a `.yaml` file as you can see in the `example_config.yaml` file in this tutorial directory."
   ]
  },
  {
   "cell_type": "markdown",
   "id": "f4e82e31-5653-4b85-be54-760ae87e337d",
   "metadata": {},
   "source": [
    "### 3.1. Using a dict variable"
   ]
  },
  {
   "cell_type": "markdown",
   "id": "61e3cf33-2efa-4a1e-af75-4f7de29df63b",
   "metadata": {},
   "source": [
    "Let us first just change a few things:\n",
    "1. 5 CNN-layers instead of 4\n",
    "2. 3 linear-layers instead of 2\n",
    "3. a kernel_size of 7 instead of 5\n",
    "4. change the dropout to .3 instead of .5"
   ]
  },
  {
   "cell_type": "code",
   "execution_count": 10,
   "id": "3e0c03e3-604c-4a7e-a4bb-b50602eafdb4",
   "metadata": {},
   "outputs": [
    {
     "data": {
      "text/plain": [
       "{'channels': [1, 4, 8, 16, 16, 32],\n",
       " 'lin_neurons': [128, 256, 128],\n",
       " 'kernel_size': [7, 7, 7, 7, 7],\n",
       " 'pooling_kernel': 2,\n",
       " 'dropout': 0.3,\n",
       " 'input_dims': (91, 109, 91),\n",
       " 'n_classes': 3,\n",
       " 'train_fn': <function delphi.utils.train_fns.standard_train(model, train_data: torch.utils.data.dataloader.DataLoader, loss_fn=CrossEntropyLoss(), optimizer=<class 'torch.optim.adam.Adam'>, lr: float = 1e-05, device: torch.device = device(type='cpu'), train=True, **optimizer_kwargs) -> Tuple[numpy.ndarray, numpy.ndarray]>,\n",
       " 'last_cnn_dims': [2, 3, 2]}"
      ]
     },
     "execution_count": 10,
     "metadata": {},
     "output_type": "execute_result"
    }
   ],
   "source": [
    "network2_config = {\n",
    "    'channels': [1, 4, 8, 16, 16, 32], # you can change the number of filters how ever you like them\n",
    "    'lin_neurons': [128, 256, 128], # same goes for the number of nodes. Be aware that some settings may make less sense than others\n",
    "    'kernel_size': 7,\n",
    "    'dropout': .3,\n",
    "}\n",
    "\n",
    "network2 = BrainStateClassifier3d(input_dimensions, 3, network2_config)\n",
    "network2.config"
   ]
  },
  {
   "cell_type": "markdown",
   "id": "84234579-a2c9-4b9d-a7b3-dd5f080e5368",
   "metadata": {},
   "source": [
    "Cool. But you may want to be even more specific in defining your network. Say, you want to have different filter sizes for each convolutional layer. Fear not, this is in fact possible like so:"
   ]
  },
  {
   "cell_type": "code",
   "execution_count": 11,
   "id": "cce22805-dba0-4e6a-affa-c43d82085e2b",
   "metadata": {},
   "outputs": [
    {
     "data": {
      "text/plain": [
       "{'channels': [1, 8, 8, 64],\n",
       " 'lin_neurons': [128, 128],\n",
       " 'kernel_size': [7, 5, 3],\n",
       " 'pooling_kernel': 2,\n",
       " 'dropout': 0.5,\n",
       " 'input_dims': (91, 109, 91),\n",
       " 'n_classes': 3,\n",
       " 'train_fn': <function delphi.utils.train_fns.standard_train(model, train_data: torch.utils.data.dataloader.DataLoader, loss_fn=CrossEntropyLoss(), optimizer=<class 'torch.optim.adam.Adam'>, lr: float = 1e-05, device: torch.device = device(type='cpu'), train=True, **optimizer_kwargs) -> Tuple[numpy.ndarray, numpy.ndarray]>,\n",
       " 'last_cnn_dims': [11, 13, 11]}"
      ]
     },
     "execution_count": 11,
     "metadata": {},
     "output_type": "execute_result"
    }
   ],
   "source": [
    "network3_config = {\n",
    "    'channels': [1, 8, 8, 64],\n",
    "    'kernel_size1': 7,\n",
    "    'kernel_size2': 5, \n",
    "    'kernel_size3': 3,\n",
    "    'lin_neurons1': 128,\n",
    "    'lin_neurons2': 128,\n",
    "}\n",
    "\n",
    "network3 = BrainStateClassifier3d(input_dimensions, 3, network3_config)\n",
    "network3.config"
   ]
  },
  {
   "cell_type": "markdown",
   "id": "f3bac69f-97d9-453b-aa18-d505b7ed8fa5",
   "metadata": {},
   "source": [
    "I hope this example shows how easy it is to be more specific in the definition. Although it should be noted that the `kernel_sizeX` attribute is the most flexible in the current version of delphi. It should also be noted that currently the `BrainStateClassifier3d` can not be a fully convolutional neural network (FCN). This will be implemented in future versions of the toolbox. "
   ]
  },
  {
   "cell_type": "markdown",
   "id": "2d36a737-1628-4a43-bea2-60266020662e",
   "metadata": {},
   "source": [
    "### 3.2. Using a .yaml file"
   ]
  },
  {
   "cell_type": "markdown",
   "id": "63912ec7-33f9-4be4-a949-a83d2dda2625",
   "metadata": {},
   "source": [
    "As mentioned above you can also use a `.yaml` file to configure your architecture.\n",
    "For this you will need the `read_config` function from the `delphi.utils.tools` subpackage. The `read_config` function simply takes a path to a .yaml file as input. It then reads the contents of that file and converts it into a python `dict` format that should resemble the one we set manually in the code block above."
   ]
  },
  {
   "cell_type": "code",
   "execution_count": 12,
   "id": "1172a07c-f3cf-498a-ae4f-edde39b1805b",
   "metadata": {},
   "outputs": [],
   "source": [
    "from delphi.utils.tools import read_config"
   ]
  },
  {
   "cell_type": "code",
   "execution_count": 13,
   "id": "fce23df9-13b1-42cc-a4a1-2eb372bddfd2",
   "metadata": {},
   "outputs": [
    {
     "data": {
      "text/plain": [
       "{'channels': [1, 8, 8, 64],\n",
       " 'kernel_size1': 7,\n",
       " 'kernel_size2': 5,\n",
       " 'kernel_size3': 3,\n",
       " 'lin_neurons1': 128,\n",
       " 'lin_neurons2': 128}"
      ]
     },
     "execution_count": 13,
     "metadata": {},
     "output_type": "execute_result"
    }
   ],
   "source": [
    "read_config('example_config.yaml')"
   ]
  },
  {
   "cell_type": "markdown",
   "id": "82346458-2c1e-493e-8cdb-5f551c511e67",
   "metadata": {},
   "source": [
    "And it does. Fantastic. Now, the reason why I implemented different ways to configure the neural networks is that a very useful tool to perform so called `hyperparameter tuning` (weights&biases) uses yaml files to set parameters. While using the delphi toolbox in combination with weights&biases is a little more complex, the delphi toolbox provides you with some functionality to reduce this complexity. An example how to use weights&biases with the delphi toolbox is in another jupyter notebook."
   ]
  },
  {
   "cell_type": "markdown",
   "id": "a5b42f23-362b-4de8-970e-1052d636c720",
   "metadata": {},
   "source": [
    "### 3.3. Saving a network state"
   ]
  },
  {
   "cell_type": "code",
   "execution_count": 14,
   "id": "6e529715-4021-4611-b8a5-aa73a5f74eaa",
   "metadata": {},
   "outputs": [
    {
     "name": "stdout",
     "output_type": "stream",
     "text": [
      "Saving ./saved_models/my_model/state_dict.pth\n",
      "Loading from config file ./saved_models/my_model/config.yaml\n",
      "Saving entire model ./saved_models/my_model_2/model.pth\n"
     ]
    }
   ],
   "source": [
    "# 1. We save the state_dict of our configured model\n",
    "network.save('./saved_models/my_model')\n",
    "# This creates a directory <my_configured_model> at the location <path/to>\n",
    "# Within this directory you will find a <state_dict.pth> and <config.yaml> file.\n",
    "\n",
    "# loading the model. Note that in this case you effectively create a \"new\" network and then fill its weights\n",
    "# and biases with the state_dict you saved before. This requires you to import the model class!\n",
    "loaded_model = BrainStateClassifier3d('./saved_models/my_model')\n",
    "\n",
    "#######################################################################################################################\n",
    "\n",
    "# 2. We save the entirety of our configured model\n",
    "network.save('./saved_models/my_model_2', save_full=True)\n",
    "\n",
    "# Using loading approach does not require you to import the SimpleLinearModel class\n",
    "# in a different python file for example. \n",
    "loaded_model = torch.load('./saved_models/my_model_2/model.pth')"
   ]
  },
  {
   "cell_type": "markdown",
   "id": "e2134182-549b-4774-9dcb-39cb5fa949f6",
   "metadata": {},
   "source": [
    "Let us now do the last step: Training the neural network!"
   ]
  },
  {
   "cell_type": "markdown",
   "id": "0f4414fb-adc6-4098-b1fe-6a3b536d4656",
   "metadata": {},
   "source": [
    "## 4. Training the neural network"
   ]
  },
  {
   "cell_type": "markdown",
   "id": "3de168bf-497f-4cee-bf4d-d85d2f170a9c",
   "metadata": {},
   "source": [
    "Shown below is the default training function of the `delhi` toolbox. Take a look at it. It is extensively commented and should provide a clear picture of how a 'standard' training function is structured. It may seem daunting for someone with little programming experience but I promise you, it is not too bad.\n",
    "\n",
    "```python\n",
    "def standard_train(\n",
    "        model,\n",
    "        train_data: DataLoader,\n",
    "        loss_fn=CrossEntropyLoss(),\n",
    "        optimizer=Adam, lr: float = .00001,\n",
    "        device: torch.device = torch.device(\"cpu\"),\n",
    "        train=True,\n",
    "        **optimizer_kwargs\n",
    ") -> Tuple[np.ndarray, np.ndarray]:\n",
    "    r\"\"\"\n",
    "    A simple function to train a supplied neural network for multiclass problems.\n",
    "\n",
    "    Args:\n",
    "        model: only necessary if this function is not supplied to the model constructor. Otherwise model.fit()\n",
    "            calls the function with model=self\n",
    "        train_data (DataLoader): dataloader used for training or validation/test if function is called in model.eval()\n",
    "            context\n",
    "        loss_fn: loss function to use (default: CrossEntropyLoss)\n",
    "        optimizer: optimizer to use to adjust weights in backward pass (default: Adam)\n",
    "        lr (float): the learning rate for the optimizer\n",
    "        device (torch.device): do computations on device, e.g., cpu or gpu (default: cpu)\n",
    "        train (bool): set the network into training mode (True|default) or evaluation (False)\n",
    "        **optimizer_kwargs: additional arguments for the supplied optimizer\n",
    "\n",
    "    Returns:\n",
    "        Tuple[epoch_loss, stats]: the stats variable contains multiple values. The first 0:n_classes columns contains\n",
    "        the classification probability for a given input (row). The second to last column (i.e., stats[:,-2]) contains\n",
    "        the predicted label. The last column (i.e. stats[:, -1] contains the real label.\n",
    "\n",
    "    \"\"\"\n",
    "\n",
    "    # set the model into training mode if it is not and train=True\n",
    "    if train:\n",
    "        if not model.training:\n",
    "            model.train()\n",
    "    else:\n",
    "        model.eval()\n",
    "\n",
    "    # here is something new: the optimizer\n",
    "    # The optimizer determines the algorithm with which the weights of the layers\n",
    "    # are adjusted. Here we use the 'Adam' algorithm by default.\n",
    "    optimizer = optimizer(model.parameters(), lr=lr, **optimizer_kwargs)\n",
    "\n",
    "    epoch_loss = 0\n",
    "\n",
    "    # the batch loop. Within this loop we iterate over all samples stored in the\n",
    "    # train_data variable.\n",
    "    # the variable 'batch' represents the current iteration [integer value]\n",
    "    # the variable 'inputs' is the actual input data in the shape of batch_size-by-inputshape\n",
    "    # the variable 'labels' contains the respective class label\n",
    "    for batch, (inputs, labels) in tqdm(enumerate(train_data)):\n",
    "\n",
    "        # in this function we transfer the data and the label tensors to the chosen device\n",
    "        # NOTE: I RECOMMEND TRANSFERING THE DATA AND LABELS TO THE DEVICE WHEN YOU LOAD THEM\n",
    "        # MORE ON THIS IN A DIFFERENT STEP THOUGH [see DataSets and DataLoaders)\n",
    "        #inputs, labels = inputs.to(device), labels.to(device)\n",
    "        inputs, labels = inputs, labels\n",
    "\n",
    "        # reset the gradients\n",
    "        # a crucial step in training the networks. Otherwise the gradients accumulate after\n",
    "        # each batch iteration and weird stuff will happen.\n",
    "        if model.training:\n",
    "            for p in model.parameters():\n",
    "                p.grad = None\n",
    "\n",
    "        outputs = model(inputs.float())  # forward pass through model\n",
    "\n",
    "        loss = loss_fn(outputs.squeeze(), labels.squeeze())  # calculate loss\n",
    "\n",
    "        # in this statement we check if the network is currently in training mode,\n",
    "        # which means, that every layer in the network has the required_grad flag set\n",
    "        # to True. This in turn means that the backpropagation algorithm is executed.\n",
    "        # If the model, however, is not in training mode we do not want to exectue\n",
    "        # the backward pass and we also do not want to store the so-called pytorch graph.\n",
    "        if model.training:\n",
    "            loss.backward()  # do a backward pass\n",
    "            optimizer.step()  # update parameters\n",
    "\n",
    "        # get the probabilities of the predictions\n",
    "        prediction_probs = model.SM(outputs.data).cpu().numpy()\n",
    "        # get the label number of the output\n",
    "        _, predicted_labels = torch.max(outputs.data, 1)\n",
    "\n",
    "        epoch_loss += loss.item()  # sum up the loss over all batches\n",
    "\n",
    "        # just a helper variable\n",
    "        inter = np.hstack(\n",
    "            [prediction_probs.squeeze(),\n",
    "             labels.squeeze().cpu().numpy()[:, None],\n",
    "             predicted_labels.squeeze().cpu().numpy()[:, None]]\n",
    "        )\n",
    "        stats = np.vstack([stats, inter]) if 'stats' in vars() else inter  # noqa\n",
    "\n",
    "    return epoch_loss / len(train_data), stats  # noqa\n",
    "```"
   ]
  },
  {
   "cell_type": "markdown",
   "id": "cfb1fe3a-15ce-40eb-8519-98324553d159",
   "metadata": {},
   "source": [
    "Now, here is actually the point where some programming from your side is necessary because a training loop can be different for each project, which makes it difficult to standardize. Usually a neural network is trained iteratively. We call these training iterations `epochs`. One epoch is finished, after the neural network has seen all elements of the dataset. A standard training loop looks something like this:"
   ]
  },
  {
   "cell_type": "code",
   "execution_count": 15,
   "id": "a201c1b7-eea1-4cec-ab6b-9a95b234ad4e",
   "metadata": {},
   "outputs": [
    {
     "name": "stdout",
     "output_type": "stream",
     "text": [
      "Loading from config file ./saved_models/my_model/config.yaml\n"
     ]
    }
   ],
   "source": [
    "# 1. load the neural network we want to train\n",
    "network = BrainStateClassifier3d('./saved_models/my_model')"
   ]
  },
  {
   "cell_type": "code",
   "execution_count": 16,
   "id": "309986e6-a264-4692-b339-4d70c57ee817",
   "metadata": {},
   "outputs": [],
   "source": [
    "# 2. set up the data. Remember, we did this at the beginning of this notebook, but we will reiterate here how it works.\n",
    "# define the paths to the data\n",
    "path_to_train_data = './data/train_split' # where is the training data located\n",
    "path_to_test_data = './data/test_split' # where is the test data located\n",
    "\n",
    "# define the classes\n",
    "classes_to_load = ['class1', 'class2', 'classN'] # which classes should be loaded\n",
    "\n",
    "# set the device on which we want to compute everything\n",
    "device = torch.device('cpu') # on which hardware (cpu/gpu) should the data be used\n",
    "\n",
    "# instantiate the dataset and dataloader\n",
    "dataset = NiftiDataset(path_to_train_data, classes_to_load, 2, device, transform=ToTensor())\n",
    "test_dataset = NiftiDataset(path_to_test_data, classes_to_load, 2, device, transform=ToTensor())\n",
    "\n",
    "loader = DataLoader(dataset, batch_size = 2, shuffle=True)\n",
    "test_loader = DataLoader(test_dataset, batch_size = 2, shuffle=True)"
   ]
  },
  {
   "cell_type": "code",
   "execution_count": 17,
   "id": "32d6d3fe-2cb5-4f08-80cc-0b85eaefac07",
   "metadata": {},
   "outputs": [],
   "source": [
    "from delphi.utils.tools import compute_accuracy\n",
    "import pandas as pd"
   ]
  },
  {
   "cell_type": "code",
   "execution_count": 18,
   "id": "5c8da75b-2608-4a5f-b308-5280fa353ac1",
   "metadata": {
    "scrolled": true,
    "tags": []
   },
   "outputs": [
    {
     "data": {
      "application/json": {
       "ascii": false,
       "bar_format": null,
       "colour": null,
       "elapsed": 0.021857023239135742,
       "initial": 0,
       "n": 0,
       "ncols": null,
       "nrows": null,
       "postfix": null,
       "prefix": "",
       "rate": null,
       "total": null,
       "unit": "it",
       "unit_divisor": 1000,
       "unit_scale": false
      },
      "application/vnd.jupyter.widget-view+json": {
       "model_id": "753705126ba6446c9334affd5158f398",
       "version_major": 2,
       "version_minor": 0
      },
      "text/plain": [
       "0it [00:00, ?it/s]"
      ]
     },
     "metadata": {},
     "output_type": "display_data"
    },
    {
     "data": {
      "application/json": {
       "ascii": false,
       "bar_format": null,
       "colour": null,
       "elapsed": 0.01059579849243164,
       "initial": 0,
       "n": 0,
       "ncols": null,
       "nrows": null,
       "postfix": null,
       "prefix": "",
       "rate": null,
       "total": null,
       "unit": "it",
       "unit_divisor": 1000,
       "unit_scale": false
      },
      "application/vnd.jupyter.widget-view+json": {
       "model_id": "9db7d6baa7c1448ba51c2210a9ce4ab9",
       "version_major": 2,
       "version_minor": 0
      },
      "text/plain": [
       "0it [00:00, ?it/s]"
      ]
     },
     "metadata": {},
     "output_type": "display_data"
    },
    {
     "data": {
      "application/json": {
       "ascii": false,
       "bar_format": null,
       "colour": null,
       "elapsed": 0.011867046356201172,
       "initial": 0,
       "n": 0,
       "ncols": null,
       "nrows": null,
       "postfix": null,
       "prefix": "",
       "rate": null,
       "total": null,
       "unit": "it",
       "unit_divisor": 1000,
       "unit_scale": false
      },
      "application/vnd.jupyter.widget-view+json": {
       "model_id": "28ca2dccb38543cb877401d78bfa3aba",
       "version_major": 2,
       "version_minor": 0
      },
      "text/plain": [
       "0it [00:00, ?it/s]"
      ]
     },
     "metadata": {},
     "output_type": "display_data"
    },
    {
     "name": "stdout",
     "output_type": "stream",
     "text": [
      "Epoch=000, train_loss=1.099, train_acc=0.333, valid_loss=1.100, valid_acc=0.333\n"
     ]
    },
    {
     "data": {
      "application/json": {
       "ascii": false,
       "bar_format": null,
       "colour": null,
       "elapsed": 0.011009931564331055,
       "initial": 0,
       "n": 0,
       "ncols": null,
       "nrows": null,
       "postfix": null,
       "prefix": "",
       "rate": null,
       "total": null,
       "unit": "it",
       "unit_divisor": 1000,
       "unit_scale": false
      },
      "application/vnd.jupyter.widget-view+json": {
       "model_id": "31afb179c9244cdfad2573d4b04d8ef8",
       "version_major": 2,
       "version_minor": 0
      },
      "text/plain": [
       "0it [00:00, ?it/s]"
      ]
     },
     "metadata": {},
     "output_type": "display_data"
    },
    {
     "data": {
      "application/json": {
       "ascii": false,
       "bar_format": null,
       "colour": null,
       "elapsed": 0.011741161346435547,
       "initial": 0,
       "n": 0,
       "ncols": null,
       "nrows": null,
       "postfix": null,
       "prefix": "",
       "rate": null,
       "total": null,
       "unit": "it",
       "unit_divisor": 1000,
       "unit_scale": false
      },
      "application/vnd.jupyter.widget-view+json": {
       "model_id": "8c24b1fa39f84528845332d1ab19e6cb",
       "version_major": 2,
       "version_minor": 0
      },
      "text/plain": [
       "0it [00:00, ?it/s]"
      ]
     },
     "metadata": {},
     "output_type": "display_data"
    },
    {
     "data": {
      "application/json": {
       "ascii": false,
       "bar_format": null,
       "colour": null,
       "elapsed": 0.011023998260498047,
       "initial": 0,
       "n": 0,
       "ncols": null,
       "nrows": null,
       "postfix": null,
       "prefix": "",
       "rate": null,
       "total": null,
       "unit": "it",
       "unit_divisor": 1000,
       "unit_scale": false
      },
      "application/vnd.jupyter.widget-view+json": {
       "model_id": "6935688bbab14928a6af18f96b89e3c1",
       "version_major": 2,
       "version_minor": 0
      },
      "text/plain": [
       "0it [00:00, ?it/s]"
      ]
     },
     "metadata": {},
     "output_type": "display_data"
    },
    {
     "name": "stdout",
     "output_type": "stream",
     "text": [
      "Epoch=001, train_loss=1.098, train_acc=0.333, valid_loss=1.099, valid_acc=0.333\n"
     ]
    },
    {
     "data": {
      "application/json": {
       "ascii": false,
       "bar_format": null,
       "colour": null,
       "elapsed": 0.010728836059570312,
       "initial": 0,
       "n": 0,
       "ncols": null,
       "nrows": null,
       "postfix": null,
       "prefix": "",
       "rate": null,
       "total": null,
       "unit": "it",
       "unit_divisor": 1000,
       "unit_scale": false
      },
      "application/vnd.jupyter.widget-view+json": {
       "model_id": "cb81c264bde241dab9f748f2426562ff",
       "version_major": 2,
       "version_minor": 0
      },
      "text/plain": [
       "0it [00:00, ?it/s]"
      ]
     },
     "metadata": {},
     "output_type": "display_data"
    },
    {
     "data": {
      "application/json": {
       "ascii": false,
       "bar_format": null,
       "colour": null,
       "elapsed": 0.01006317138671875,
       "initial": 0,
       "n": 0,
       "ncols": null,
       "nrows": null,
       "postfix": null,
       "prefix": "",
       "rate": null,
       "total": null,
       "unit": "it",
       "unit_divisor": 1000,
       "unit_scale": false
      },
      "application/vnd.jupyter.widget-view+json": {
       "model_id": "db3e52a418bd43c4a11519ff8a788731",
       "version_major": 2,
       "version_minor": 0
      },
      "text/plain": [
       "0it [00:00, ?it/s]"
      ]
     },
     "metadata": {},
     "output_type": "display_data"
    },
    {
     "data": {
      "application/json": {
       "ascii": false,
       "bar_format": null,
       "colour": null,
       "elapsed": 0.012595891952514648,
       "initial": 0,
       "n": 0,
       "ncols": null,
       "nrows": null,
       "postfix": null,
       "prefix": "",
       "rate": null,
       "total": null,
       "unit": "it",
       "unit_divisor": 1000,
       "unit_scale": false
      },
      "application/vnd.jupyter.widget-view+json": {
       "model_id": "b5b9f0e7d8df4a819630af7cc53722d2",
       "version_major": 2,
       "version_minor": 0
      },
      "text/plain": [
       "0it [00:00, ?it/s]"
      ]
     },
     "metadata": {},
     "output_type": "display_data"
    },
    {
     "name": "stdout",
     "output_type": "stream",
     "text": [
      "Epoch=002, train_loss=1.098, train_acc=0.333, valid_loss=1.100, valid_acc=0.333\n"
     ]
    },
    {
     "data": {
      "application/json": {
       "ascii": false,
       "bar_format": null,
       "colour": null,
       "elapsed": 0.011574029922485352,
       "initial": 0,
       "n": 0,
       "ncols": null,
       "nrows": null,
       "postfix": null,
       "prefix": "",
       "rate": null,
       "total": null,
       "unit": "it",
       "unit_divisor": 1000,
       "unit_scale": false
      },
      "application/vnd.jupyter.widget-view+json": {
       "model_id": "a96d275554bc44c889759cbfb66a6024",
       "version_major": 2,
       "version_minor": 0
      },
      "text/plain": [
       "0it [00:00, ?it/s]"
      ]
     },
     "metadata": {},
     "output_type": "display_data"
    },
    {
     "data": {
      "application/json": {
       "ascii": false,
       "bar_format": null,
       "colour": null,
       "elapsed": 0.011255979537963867,
       "initial": 0,
       "n": 0,
       "ncols": null,
       "nrows": null,
       "postfix": null,
       "prefix": "",
       "rate": null,
       "total": null,
       "unit": "it",
       "unit_divisor": 1000,
       "unit_scale": false
      },
      "application/vnd.jupyter.widget-view+json": {
       "model_id": "8258ba5cd244425a8e139c84dbbeff07",
       "version_major": 2,
       "version_minor": 0
      },
      "text/plain": [
       "0it [00:00, ?it/s]"
      ]
     },
     "metadata": {},
     "output_type": "display_data"
    },
    {
     "data": {
      "application/json": {
       "ascii": false,
       "bar_format": null,
       "colour": null,
       "elapsed": 0.010354757308959961,
       "initial": 0,
       "n": 0,
       "ncols": null,
       "nrows": null,
       "postfix": null,
       "prefix": "",
       "rate": null,
       "total": null,
       "unit": "it",
       "unit_divisor": 1000,
       "unit_scale": false
      },
      "application/vnd.jupyter.widget-view+json": {
       "model_id": "d7d93d88979f4b44897dd5c68a348da5",
       "version_major": 2,
       "version_minor": 0
      },
      "text/plain": [
       "0it [00:00, ?it/s]"
      ]
     },
     "metadata": {},
     "output_type": "display_data"
    },
    {
     "name": "stdout",
     "output_type": "stream",
     "text": [
      "Epoch=003, train_loss=1.096, train_acc=0.333, valid_loss=1.098, valid_acc=0.333\n"
     ]
    },
    {
     "data": {
      "application/json": {
       "ascii": false,
       "bar_format": null,
       "colour": null,
       "elapsed": 0.010211944580078125,
       "initial": 0,
       "n": 0,
       "ncols": null,
       "nrows": null,
       "postfix": null,
       "prefix": "",
       "rate": null,
       "total": null,
       "unit": "it",
       "unit_divisor": 1000,
       "unit_scale": false
      },
      "application/vnd.jupyter.widget-view+json": {
       "model_id": "5e53b0af2a2e48388b42d07c7c5588f6",
       "version_major": 2,
       "version_minor": 0
      },
      "text/plain": [
       "0it [00:00, ?it/s]"
      ]
     },
     "metadata": {},
     "output_type": "display_data"
    },
    {
     "data": {
      "application/json": {
       "ascii": false,
       "bar_format": null,
       "colour": null,
       "elapsed": 0.010333061218261719,
       "initial": 0,
       "n": 0,
       "ncols": null,
       "nrows": null,
       "postfix": null,
       "prefix": "",
       "rate": null,
       "total": null,
       "unit": "it",
       "unit_divisor": 1000,
       "unit_scale": false
      },
      "application/vnd.jupyter.widget-view+json": {
       "model_id": "2795a10c232644d2a3ccb902ef2a1333",
       "version_major": 2,
       "version_minor": 0
      },
      "text/plain": [
       "0it [00:00, ?it/s]"
      ]
     },
     "metadata": {},
     "output_type": "display_data"
    },
    {
     "data": {
      "application/json": {
       "ascii": false,
       "bar_format": null,
       "colour": null,
       "elapsed": 0.010258197784423828,
       "initial": 0,
       "n": 0,
       "ncols": null,
       "nrows": null,
       "postfix": null,
       "prefix": "",
       "rate": null,
       "total": null,
       "unit": "it",
       "unit_divisor": 1000,
       "unit_scale": false
      },
      "application/vnd.jupyter.widget-view+json": {
       "model_id": "eb78d3275b9b4d1fbc5663330d2a7953",
       "version_major": 2,
       "version_minor": 0
      },
      "text/plain": [
       "0it [00:00, ?it/s]"
      ]
     },
     "metadata": {},
     "output_type": "display_data"
    },
    {
     "name": "stdout",
     "output_type": "stream",
     "text": [
      "Epoch=004, train_loss=1.097, train_acc=0.333, valid_loss=1.099, valid_acc=0.333\n"
     ]
    },
    {
     "data": {
      "application/json": {
       "ascii": false,
       "bar_format": null,
       "colour": null,
       "elapsed": 0.009830951690673828,
       "initial": 0,
       "n": 0,
       "ncols": null,
       "nrows": null,
       "postfix": null,
       "prefix": "",
       "rate": null,
       "total": null,
       "unit": "it",
       "unit_divisor": 1000,
       "unit_scale": false
      },
      "application/vnd.jupyter.widget-view+json": {
       "model_id": "76408697070b403cb3eef9f584a63b83",
       "version_major": 2,
       "version_minor": 0
      },
      "text/plain": [
       "0it [00:00, ?it/s]"
      ]
     },
     "metadata": {},
     "output_type": "display_data"
    },
    {
     "data": {
      "application/json": {
       "ascii": false,
       "bar_format": null,
       "colour": null,
       "elapsed": 0.009974002838134766,
       "initial": 0,
       "n": 0,
       "ncols": null,
       "nrows": null,
       "postfix": null,
       "prefix": "",
       "rate": null,
       "total": null,
       "unit": "it",
       "unit_divisor": 1000,
       "unit_scale": false
      },
      "application/vnd.jupyter.widget-view+json": {
       "model_id": "705c19a9d0f44e1b93887dd393f32618",
       "version_major": 2,
       "version_minor": 0
      },
      "text/plain": [
       "0it [00:00, ?it/s]"
      ]
     },
     "metadata": {},
     "output_type": "display_data"
    },
    {
     "data": {
      "application/json": {
       "ascii": false,
       "bar_format": null,
       "colour": null,
       "elapsed": 0.010369062423706055,
       "initial": 0,
       "n": 0,
       "ncols": null,
       "nrows": null,
       "postfix": null,
       "prefix": "",
       "rate": null,
       "total": null,
       "unit": "it",
       "unit_divisor": 1000,
       "unit_scale": false
      },
      "application/vnd.jupyter.widget-view+json": {
       "model_id": "bddb60788ca1471bb784716890fdca0d",
       "version_major": 2,
       "version_minor": 0
      },
      "text/plain": [
       "0it [00:00, ?it/s]"
      ]
     },
     "metadata": {},
     "output_type": "display_data"
    },
    {
     "name": "stdout",
     "output_type": "stream",
     "text": [
      "Epoch=005, train_loss=1.096, train_acc=0.333, valid_loss=1.099, valid_acc=0.333\n"
     ]
    },
    {
     "data": {
      "application/json": {
       "ascii": false,
       "bar_format": null,
       "colour": null,
       "elapsed": 0.01056981086730957,
       "initial": 0,
       "n": 0,
       "ncols": null,
       "nrows": null,
       "postfix": null,
       "prefix": "",
       "rate": null,
       "total": null,
       "unit": "it",
       "unit_divisor": 1000,
       "unit_scale": false
      },
      "application/vnd.jupyter.widget-view+json": {
       "model_id": "80da59df17d6470ca4713c83643330b8",
       "version_major": 2,
       "version_minor": 0
      },
      "text/plain": [
       "0it [00:00, ?it/s]"
      ]
     },
     "metadata": {},
     "output_type": "display_data"
    },
    {
     "data": {
      "application/json": {
       "ascii": false,
       "bar_format": null,
       "colour": null,
       "elapsed": 0.0102081298828125,
       "initial": 0,
       "n": 0,
       "ncols": null,
       "nrows": null,
       "postfix": null,
       "prefix": "",
       "rate": null,
       "total": null,
       "unit": "it",
       "unit_divisor": 1000,
       "unit_scale": false
      },
      "application/vnd.jupyter.widget-view+json": {
       "model_id": "66e05091d49d4302814dfe3616552a81",
       "version_major": 2,
       "version_minor": 0
      },
      "text/plain": [
       "0it [00:00, ?it/s]"
      ]
     },
     "metadata": {},
     "output_type": "display_data"
    },
    {
     "data": {
      "application/json": {
       "ascii": false,
       "bar_format": null,
       "colour": null,
       "elapsed": 0.01039886474609375,
       "initial": 0,
       "n": 0,
       "ncols": null,
       "nrows": null,
       "postfix": null,
       "prefix": "",
       "rate": null,
       "total": null,
       "unit": "it",
       "unit_divisor": 1000,
       "unit_scale": false
      },
      "application/vnd.jupyter.widget-view+json": {
       "model_id": "691e3cb28813486382a6f5098a2afba3",
       "version_major": 2,
       "version_minor": 0
      },
      "text/plain": [
       "0it [00:00, ?it/s]"
      ]
     },
     "metadata": {},
     "output_type": "display_data"
    },
    {
     "name": "stdout",
     "output_type": "stream",
     "text": [
      "Epoch=006, train_loss=1.097, train_acc=0.333, valid_loss=1.100, valid_acc=0.333\n"
     ]
    },
    {
     "data": {
      "application/json": {
       "ascii": false,
       "bar_format": null,
       "colour": null,
       "elapsed": 0.010316133499145508,
       "initial": 0,
       "n": 0,
       "ncols": null,
       "nrows": null,
       "postfix": null,
       "prefix": "",
       "rate": null,
       "total": null,
       "unit": "it",
       "unit_divisor": 1000,
       "unit_scale": false
      },
      "application/vnd.jupyter.widget-view+json": {
       "model_id": "abf4105c869746ed8ebe77c87b9bdf28",
       "version_major": 2,
       "version_minor": 0
      },
      "text/plain": [
       "0it [00:00, ?it/s]"
      ]
     },
     "metadata": {},
     "output_type": "display_data"
    },
    {
     "data": {
      "application/json": {
       "ascii": false,
       "bar_format": null,
       "colour": null,
       "elapsed": 0.012063980102539062,
       "initial": 0,
       "n": 0,
       "ncols": null,
       "nrows": null,
       "postfix": null,
       "prefix": "",
       "rate": null,
       "total": null,
       "unit": "it",
       "unit_divisor": 1000,
       "unit_scale": false
      },
      "application/vnd.jupyter.widget-view+json": {
       "model_id": "dfbd8d4cb7ac446cb77ce1617e920d04",
       "version_major": 2,
       "version_minor": 0
      },
      "text/plain": [
       "0it [00:00, ?it/s]"
      ]
     },
     "metadata": {},
     "output_type": "display_data"
    },
    {
     "data": {
      "application/json": {
       "ascii": false,
       "bar_format": null,
       "colour": null,
       "elapsed": 0.011456012725830078,
       "initial": 0,
       "n": 0,
       "ncols": null,
       "nrows": null,
       "postfix": null,
       "prefix": "",
       "rate": null,
       "total": null,
       "unit": "it",
       "unit_divisor": 1000,
       "unit_scale": false
      },
      "application/vnd.jupyter.widget-view+json": {
       "model_id": "7a14588a610e4cf1b66d351230553552",
       "version_major": 2,
       "version_minor": 0
      },
      "text/plain": [
       "0it [00:00, ?it/s]"
      ]
     },
     "metadata": {},
     "output_type": "display_data"
    },
    {
     "name": "stdout",
     "output_type": "stream",
     "text": [
      "Epoch=007, train_loss=1.095, train_acc=0.333, valid_loss=1.098, valid_acc=0.333\n"
     ]
    },
    {
     "data": {
      "application/json": {
       "ascii": false,
       "bar_format": null,
       "colour": null,
       "elapsed": 0.01011204719543457,
       "initial": 0,
       "n": 0,
       "ncols": null,
       "nrows": null,
       "postfix": null,
       "prefix": "",
       "rate": null,
       "total": null,
       "unit": "it",
       "unit_divisor": 1000,
       "unit_scale": false
      },
      "application/vnd.jupyter.widget-view+json": {
       "model_id": "17d204588af042d1a5f05e83fff17090",
       "version_major": 2,
       "version_minor": 0
      },
      "text/plain": [
       "0it [00:00, ?it/s]"
      ]
     },
     "metadata": {},
     "output_type": "display_data"
    },
    {
     "data": {
      "application/json": {
       "ascii": false,
       "bar_format": null,
       "colour": null,
       "elapsed": 0.009911060333251953,
       "initial": 0,
       "n": 0,
       "ncols": null,
       "nrows": null,
       "postfix": null,
       "prefix": "",
       "rate": null,
       "total": null,
       "unit": "it",
       "unit_divisor": 1000,
       "unit_scale": false
      },
      "application/vnd.jupyter.widget-view+json": {
       "model_id": "0ac0587ebda0452aac4c2ffd66f2b59c",
       "version_major": 2,
       "version_minor": 0
      },
      "text/plain": [
       "0it [00:00, ?it/s]"
      ]
     },
     "metadata": {},
     "output_type": "display_data"
    },
    {
     "data": {
      "application/json": {
       "ascii": false,
       "bar_format": null,
       "colour": null,
       "elapsed": 0.010333061218261719,
       "initial": 0,
       "n": 0,
       "ncols": null,
       "nrows": null,
       "postfix": null,
       "prefix": "",
       "rate": null,
       "total": null,
       "unit": "it",
       "unit_divisor": 1000,
       "unit_scale": false
      },
      "application/vnd.jupyter.widget-view+json": {
       "model_id": "33ad736d781848dfae2e2a293eac922a",
       "version_major": 2,
       "version_minor": 0
      },
      "text/plain": [
       "0it [00:00, ?it/s]"
      ]
     },
     "metadata": {},
     "output_type": "display_data"
    },
    {
     "name": "stdout",
     "output_type": "stream",
     "text": [
      "Epoch=008, train_loss=1.094, train_acc=0.333, valid_loss=1.097, valid_acc=0.333\n"
     ]
    },
    {
     "data": {
      "application/json": {
       "ascii": false,
       "bar_format": null,
       "colour": null,
       "elapsed": 0.010030746459960938,
       "initial": 0,
       "n": 0,
       "ncols": null,
       "nrows": null,
       "postfix": null,
       "prefix": "",
       "rate": null,
       "total": null,
       "unit": "it",
       "unit_divisor": 1000,
       "unit_scale": false
      },
      "application/vnd.jupyter.widget-view+json": {
       "model_id": "6f4ac0795f6e4d2ab8f8f139ef475846",
       "version_major": 2,
       "version_minor": 0
      },
      "text/plain": [
       "0it [00:00, ?it/s]"
      ]
     },
     "metadata": {},
     "output_type": "display_data"
    },
    {
     "data": {
      "application/json": {
       "ascii": false,
       "bar_format": null,
       "colour": null,
       "elapsed": 0.010139226913452148,
       "initial": 0,
       "n": 0,
       "ncols": null,
       "nrows": null,
       "postfix": null,
       "prefix": "",
       "rate": null,
       "total": null,
       "unit": "it",
       "unit_divisor": 1000,
       "unit_scale": false
      },
      "application/vnd.jupyter.widget-view+json": {
       "model_id": "f968a2a5ddcb4064ae90bb7366772642",
       "version_major": 2,
       "version_minor": 0
      },
      "text/plain": [
       "0it [00:00, ?it/s]"
      ]
     },
     "metadata": {},
     "output_type": "display_data"
    },
    {
     "data": {
      "application/json": {
       "ascii": false,
       "bar_format": null,
       "colour": null,
       "elapsed": 0.01109623908996582,
       "initial": 0,
       "n": 0,
       "ncols": null,
       "nrows": null,
       "postfix": null,
       "prefix": "",
       "rate": null,
       "total": null,
       "unit": "it",
       "unit_divisor": 1000,
       "unit_scale": false
      },
      "application/vnd.jupyter.widget-view+json": {
       "model_id": "f4f0c990286e4123ba1da2257446fe17",
       "version_major": 2,
       "version_minor": 0
      },
      "text/plain": [
       "0it [00:00, ?it/s]"
      ]
     },
     "metadata": {},
     "output_type": "display_data"
    },
    {
     "name": "stdout",
     "output_type": "stream",
     "text": [
      "Epoch=009, train_loss=1.092, train_acc=0.333, valid_loss=1.096, valid_acc=0.333\n"
     ]
    },
    {
     "data": {
      "application/json": {
       "ascii": false,
       "bar_format": null,
       "colour": null,
       "elapsed": 0.010164976119995117,
       "initial": 0,
       "n": 0,
       "ncols": null,
       "nrows": null,
       "postfix": null,
       "prefix": "",
       "rate": null,
       "total": null,
       "unit": "it",
       "unit_divisor": 1000,
       "unit_scale": false
      },
      "application/vnd.jupyter.widget-view+json": {
       "model_id": "7cbbdf01ff76465c8a1ad214c51416e9",
       "version_major": 2,
       "version_minor": 0
      },
      "text/plain": [
       "0it [00:00, ?it/s]"
      ]
     },
     "metadata": {},
     "output_type": "display_data"
    },
    {
     "data": {
      "application/json": {
       "ascii": false,
       "bar_format": null,
       "colour": null,
       "elapsed": 0.009849786758422852,
       "initial": 0,
       "n": 0,
       "ncols": null,
       "nrows": null,
       "postfix": null,
       "prefix": "",
       "rate": null,
       "total": null,
       "unit": "it",
       "unit_divisor": 1000,
       "unit_scale": false
      },
      "application/vnd.jupyter.widget-view+json": {
       "model_id": "d60f43f17e8545be8ded3d7afb206f24",
       "version_major": 2,
       "version_minor": 0
      },
      "text/plain": [
       "0it [00:00, ?it/s]"
      ]
     },
     "metadata": {},
     "output_type": "display_data"
    },
    {
     "data": {
      "application/json": {
       "ascii": false,
       "bar_format": null,
       "colour": null,
       "elapsed": 0.01039266586303711,
       "initial": 0,
       "n": 0,
       "ncols": null,
       "nrows": null,
       "postfix": null,
       "prefix": "",
       "rate": null,
       "total": null,
       "unit": "it",
       "unit_divisor": 1000,
       "unit_scale": false
      },
      "application/vnd.jupyter.widget-view+json": {
       "model_id": "4c7f5a5569804eb8902f787198f61fdd",
       "version_major": 2,
       "version_minor": 0
      },
      "text/plain": [
       "0it [00:00, ?it/s]"
      ]
     },
     "metadata": {},
     "output_type": "display_data"
    },
    {
     "name": "stdout",
     "output_type": "stream",
     "text": [
      "Epoch=010, train_loss=1.091, train_acc=0.333, valid_loss=1.095, valid_acc=0.333\n"
     ]
    },
    {
     "data": {
      "application/json": {
       "ascii": false,
       "bar_format": null,
       "colour": null,
       "elapsed": 0.010246038436889648,
       "initial": 0,
       "n": 0,
       "ncols": null,
       "nrows": null,
       "postfix": null,
       "prefix": "",
       "rate": null,
       "total": null,
       "unit": "it",
       "unit_divisor": 1000,
       "unit_scale": false
      },
      "application/vnd.jupyter.widget-view+json": {
       "model_id": "c38c0b65265944cab4376a0ba89d7bb1",
       "version_major": 2,
       "version_minor": 0
      },
      "text/plain": [
       "0it [00:00, ?it/s]"
      ]
     },
     "metadata": {},
     "output_type": "display_data"
    },
    {
     "data": {
      "application/json": {
       "ascii": false,
       "bar_format": null,
       "colour": null,
       "elapsed": 0.01004791259765625,
       "initial": 0,
       "n": 0,
       "ncols": null,
       "nrows": null,
       "postfix": null,
       "prefix": "",
       "rate": null,
       "total": null,
       "unit": "it",
       "unit_divisor": 1000,
       "unit_scale": false
      },
      "application/vnd.jupyter.widget-view+json": {
       "model_id": "d95ac1be5da748228569bdb0122c247c",
       "version_major": 2,
       "version_minor": 0
      },
      "text/plain": [
       "0it [00:00, ?it/s]"
      ]
     },
     "metadata": {},
     "output_type": "display_data"
    },
    {
     "data": {
      "application/json": {
       "ascii": false,
       "bar_format": null,
       "colour": null,
       "elapsed": 0.010045289993286133,
       "initial": 0,
       "n": 0,
       "ncols": null,
       "nrows": null,
       "postfix": null,
       "prefix": "",
       "rate": null,
       "total": null,
       "unit": "it",
       "unit_divisor": 1000,
       "unit_scale": false
      },
      "application/vnd.jupyter.widget-view+json": {
       "model_id": "56e6e42b1a8041049db23730ae6c18ed",
       "version_major": 2,
       "version_minor": 0
      },
      "text/plain": [
       "0it [00:00, ?it/s]"
      ]
     },
     "metadata": {},
     "output_type": "display_data"
    },
    {
     "name": "stdout",
     "output_type": "stream",
     "text": [
      "Epoch=011, train_loss=1.089, train_acc=0.333, valid_loss=1.093, valid_acc=0.333\n"
     ]
    },
    {
     "data": {
      "application/json": {
       "ascii": false,
       "bar_format": null,
       "colour": null,
       "elapsed": 0.010200023651123047,
       "initial": 0,
       "n": 0,
       "ncols": null,
       "nrows": null,
       "postfix": null,
       "prefix": "",
       "rate": null,
       "total": null,
       "unit": "it",
       "unit_divisor": 1000,
       "unit_scale": false
      },
      "application/vnd.jupyter.widget-view+json": {
       "model_id": "289f18f7080c40ba83a78a29ded31803",
       "version_major": 2,
       "version_minor": 0
      },
      "text/plain": [
       "0it [00:00, ?it/s]"
      ]
     },
     "metadata": {},
     "output_type": "display_data"
    },
    {
     "data": {
      "application/json": {
       "ascii": false,
       "bar_format": null,
       "colour": null,
       "elapsed": 0.01011204719543457,
       "initial": 0,
       "n": 0,
       "ncols": null,
       "nrows": null,
       "postfix": null,
       "prefix": "",
       "rate": null,
       "total": null,
       "unit": "it",
       "unit_divisor": 1000,
       "unit_scale": false
      },
      "application/vnd.jupyter.widget-view+json": {
       "model_id": "2701b3787f814f83b82951d746f58483",
       "version_major": 2,
       "version_minor": 0
      },
      "text/plain": [
       "0it [00:00, ?it/s]"
      ]
     },
     "metadata": {},
     "output_type": "display_data"
    },
    {
     "data": {
      "application/json": {
       "ascii": false,
       "bar_format": null,
       "colour": null,
       "elapsed": 0.01063227653503418,
       "initial": 0,
       "n": 0,
       "ncols": null,
       "nrows": null,
       "postfix": null,
       "prefix": "",
       "rate": null,
       "total": null,
       "unit": "it",
       "unit_divisor": 1000,
       "unit_scale": false
      },
      "application/vnd.jupyter.widget-view+json": {
       "model_id": "6c62b41a133e4eb0bb41e8717744afca",
       "version_major": 2,
       "version_minor": 0
      },
      "text/plain": [
       "0it [00:00, ?it/s]"
      ]
     },
     "metadata": {},
     "output_type": "display_data"
    },
    {
     "name": "stdout",
     "output_type": "stream",
     "text": [
      "Epoch=012, train_loss=1.088, train_acc=0.333, valid_loss=1.093, valid_acc=0.333\n"
     ]
    },
    {
     "data": {
      "application/json": {
       "ascii": false,
       "bar_format": null,
       "colour": null,
       "elapsed": 0.01080012321472168,
       "initial": 0,
       "n": 0,
       "ncols": null,
       "nrows": null,
       "postfix": null,
       "prefix": "",
       "rate": null,
       "total": null,
       "unit": "it",
       "unit_divisor": 1000,
       "unit_scale": false
      },
      "application/vnd.jupyter.widget-view+json": {
       "model_id": "846f4cedcd4b4cb8b1d27f56a03b2147",
       "version_major": 2,
       "version_minor": 0
      },
      "text/plain": [
       "0it [00:00, ?it/s]"
      ]
     },
     "metadata": {},
     "output_type": "display_data"
    },
    {
     "data": {
      "application/json": {
       "ascii": false,
       "bar_format": null,
       "colour": null,
       "elapsed": 0.01040792465209961,
       "initial": 0,
       "n": 0,
       "ncols": null,
       "nrows": null,
       "postfix": null,
       "prefix": "",
       "rate": null,
       "total": null,
       "unit": "it",
       "unit_divisor": 1000,
       "unit_scale": false
      },
      "application/vnd.jupyter.widget-view+json": {
       "model_id": "6aa606f00ace466b9b41cd250f4f4da3",
       "version_major": 2,
       "version_minor": 0
      },
      "text/plain": [
       "0it [00:00, ?it/s]"
      ]
     },
     "metadata": {},
     "output_type": "display_data"
    },
    {
     "data": {
      "application/json": {
       "ascii": false,
       "bar_format": null,
       "colour": null,
       "elapsed": 0.010170698165893555,
       "initial": 0,
       "n": 0,
       "ncols": null,
       "nrows": null,
       "postfix": null,
       "prefix": "",
       "rate": null,
       "total": null,
       "unit": "it",
       "unit_divisor": 1000,
       "unit_scale": false
      },
      "application/vnd.jupyter.widget-view+json": {
       "model_id": "6b5fc7a1b17d46328091cc2ec134f905",
       "version_major": 2,
       "version_minor": 0
      },
      "text/plain": [
       "0it [00:00, ?it/s]"
      ]
     },
     "metadata": {},
     "output_type": "display_data"
    },
    {
     "name": "stdout",
     "output_type": "stream",
     "text": [
      "Epoch=013, train_loss=1.087, train_acc=0.333, valid_loss=1.091, valid_acc=0.333\n"
     ]
    },
    {
     "data": {
      "application/json": {
       "ascii": false,
       "bar_format": null,
       "colour": null,
       "elapsed": 0.010788679122924805,
       "initial": 0,
       "n": 0,
       "ncols": null,
       "nrows": null,
       "postfix": null,
       "prefix": "",
       "rate": null,
       "total": null,
       "unit": "it",
       "unit_divisor": 1000,
       "unit_scale": false
      },
      "application/vnd.jupyter.widget-view+json": {
       "model_id": "ce8d7162782349739e35dae09d139cd3",
       "version_major": 2,
       "version_minor": 0
      },
      "text/plain": [
       "0it [00:00, ?it/s]"
      ]
     },
     "metadata": {},
     "output_type": "display_data"
    },
    {
     "data": {
      "application/json": {
       "ascii": false,
       "bar_format": null,
       "colour": null,
       "elapsed": 0.01061105728149414,
       "initial": 0,
       "n": 0,
       "ncols": null,
       "nrows": null,
       "postfix": null,
       "prefix": "",
       "rate": null,
       "total": null,
       "unit": "it",
       "unit_divisor": 1000,
       "unit_scale": false
      },
      "application/vnd.jupyter.widget-view+json": {
       "model_id": "3a77909ee3f24aa286978ec0d0f52e09",
       "version_major": 2,
       "version_minor": 0
      },
      "text/plain": [
       "0it [00:00, ?it/s]"
      ]
     },
     "metadata": {},
     "output_type": "display_data"
    },
    {
     "data": {
      "application/json": {
       "ascii": false,
       "bar_format": null,
       "colour": null,
       "elapsed": 0.009979009628295898,
       "initial": 0,
       "n": 0,
       "ncols": null,
       "nrows": null,
       "postfix": null,
       "prefix": "",
       "rate": null,
       "total": null,
       "unit": "it",
       "unit_divisor": 1000,
       "unit_scale": false
      },
      "application/vnd.jupyter.widget-view+json": {
       "model_id": "ccd17ded37104728b91006c7f1acc3c4",
       "version_major": 2,
       "version_minor": 0
      },
      "text/plain": [
       "0it [00:00, ?it/s]"
      ]
     },
     "metadata": {},
     "output_type": "display_data"
    },
    {
     "name": "stdout",
     "output_type": "stream",
     "text": [
      "Epoch=014, train_loss=1.088, train_acc=0.333, valid_loss=1.093, valid_acc=0.333\n"
     ]
    },
    {
     "data": {
      "application/json": {
       "ascii": false,
       "bar_format": null,
       "colour": null,
       "elapsed": 0.009882211685180664,
       "initial": 0,
       "n": 0,
       "ncols": null,
       "nrows": null,
       "postfix": null,
       "prefix": "",
       "rate": null,
       "total": null,
       "unit": "it",
       "unit_divisor": 1000,
       "unit_scale": false
      },
      "application/vnd.jupyter.widget-view+json": {
       "model_id": "11454095efb946139dfd5f28f05b7f57",
       "version_major": 2,
       "version_minor": 0
      },
      "text/plain": [
       "0it [00:00, ?it/s]"
      ]
     },
     "metadata": {},
     "output_type": "display_data"
    },
    {
     "data": {
      "application/json": {
       "ascii": false,
       "bar_format": null,
       "colour": null,
       "elapsed": 0.009953975677490234,
       "initial": 0,
       "n": 0,
       "ncols": null,
       "nrows": null,
       "postfix": null,
       "prefix": "",
       "rate": null,
       "total": null,
       "unit": "it",
       "unit_divisor": 1000,
       "unit_scale": false
      },
      "application/vnd.jupyter.widget-view+json": {
       "model_id": "b01bcd84b6d8438d856c790d772adec3",
       "version_major": 2,
       "version_minor": 0
      },
      "text/plain": [
       "0it [00:00, ?it/s]"
      ]
     },
     "metadata": {},
     "output_type": "display_data"
    },
    {
     "data": {
      "application/json": {
       "ascii": false,
       "bar_format": null,
       "colour": null,
       "elapsed": 0.010332822799682617,
       "initial": 0,
       "n": 0,
       "ncols": null,
       "nrows": null,
       "postfix": null,
       "prefix": "",
       "rate": null,
       "total": null,
       "unit": "it",
       "unit_divisor": 1000,
       "unit_scale": false
      },
      "application/vnd.jupyter.widget-view+json": {
       "model_id": "e8817b87d58644a3aff352351f97d5a1",
       "version_major": 2,
       "version_minor": 0
      },
      "text/plain": [
       "0it [00:00, ?it/s]"
      ]
     },
     "metadata": {},
     "output_type": "display_data"
    },
    {
     "name": "stdout",
     "output_type": "stream",
     "text": [
      "Epoch=015, train_loss=1.086, train_acc=0.333, valid_loss=1.091, valid_acc=0.333\n"
     ]
    },
    {
     "data": {
      "application/json": {
       "ascii": false,
       "bar_format": null,
       "colour": null,
       "elapsed": 0.010035991668701172,
       "initial": 0,
       "n": 0,
       "ncols": null,
       "nrows": null,
       "postfix": null,
       "prefix": "",
       "rate": null,
       "total": null,
       "unit": "it",
       "unit_divisor": 1000,
       "unit_scale": false
      },
      "application/vnd.jupyter.widget-view+json": {
       "model_id": "3844399e351a41528a71534f2f06874d",
       "version_major": 2,
       "version_minor": 0
      },
      "text/plain": [
       "0it [00:00, ?it/s]"
      ]
     },
     "metadata": {},
     "output_type": "display_data"
    },
    {
     "data": {
      "application/json": {
       "ascii": false,
       "bar_format": null,
       "colour": null,
       "elapsed": 0.009860038757324219,
       "initial": 0,
       "n": 0,
       "ncols": null,
       "nrows": null,
       "postfix": null,
       "prefix": "",
       "rate": null,
       "total": null,
       "unit": "it",
       "unit_divisor": 1000,
       "unit_scale": false
      },
      "application/vnd.jupyter.widget-view+json": {
       "model_id": "2e23a77457cd48499e8a877f253e2834",
       "version_major": 2,
       "version_minor": 0
      },
      "text/plain": [
       "0it [00:00, ?it/s]"
      ]
     },
     "metadata": {},
     "output_type": "display_data"
    },
    {
     "data": {
      "application/json": {
       "ascii": false,
       "bar_format": null,
       "colour": null,
       "elapsed": 0.010715007781982422,
       "initial": 0,
       "n": 0,
       "ncols": null,
       "nrows": null,
       "postfix": null,
       "prefix": "",
       "rate": null,
       "total": null,
       "unit": "it",
       "unit_divisor": 1000,
       "unit_scale": false
      },
      "application/vnd.jupyter.widget-view+json": {
       "model_id": "db5633524fd449a1b6c9b6343bec5745",
       "version_major": 2,
       "version_minor": 0
      },
      "text/plain": [
       "0it [00:00, ?it/s]"
      ]
     },
     "metadata": {},
     "output_type": "display_data"
    },
    {
     "name": "stdout",
     "output_type": "stream",
     "text": [
      "Epoch=016, train_loss=1.084, train_acc=0.333, valid_loss=1.088, valid_acc=0.333\n"
     ]
    },
    {
     "data": {
      "application/json": {
       "ascii": false,
       "bar_format": null,
       "colour": null,
       "elapsed": 0.010791778564453125,
       "initial": 0,
       "n": 0,
       "ncols": null,
       "nrows": null,
       "postfix": null,
       "prefix": "",
       "rate": null,
       "total": null,
       "unit": "it",
       "unit_divisor": 1000,
       "unit_scale": false
      },
      "application/vnd.jupyter.widget-view+json": {
       "model_id": "1c1226623c8d4aada450460ff2a56537",
       "version_major": 2,
       "version_minor": 0
      },
      "text/plain": [
       "0it [00:00, ?it/s]"
      ]
     },
     "metadata": {},
     "output_type": "display_data"
    },
    {
     "data": {
      "application/json": {
       "ascii": false,
       "bar_format": null,
       "colour": null,
       "elapsed": 0.010238170623779297,
       "initial": 0,
       "n": 0,
       "ncols": null,
       "nrows": null,
       "postfix": null,
       "prefix": "",
       "rate": null,
       "total": null,
       "unit": "it",
       "unit_divisor": 1000,
       "unit_scale": false
      },
      "application/vnd.jupyter.widget-view+json": {
       "model_id": "bbf0c8c9a1e144a4b9aaf9cf52fd9db5",
       "version_major": 2,
       "version_minor": 0
      },
      "text/plain": [
       "0it [00:00, ?it/s]"
      ]
     },
     "metadata": {},
     "output_type": "display_data"
    },
    {
     "data": {
      "application/json": {
       "ascii": false,
       "bar_format": null,
       "colour": null,
       "elapsed": 0.010026931762695312,
       "initial": 0,
       "n": 0,
       "ncols": null,
       "nrows": null,
       "postfix": null,
       "prefix": "",
       "rate": null,
       "total": null,
       "unit": "it",
       "unit_divisor": 1000,
       "unit_scale": false
      },
      "application/vnd.jupyter.widget-view+json": {
       "model_id": "cc253ce6f08242ea977b2cd2291c81e9",
       "version_major": 2,
       "version_minor": 0
      },
      "text/plain": [
       "0it [00:00, ?it/s]"
      ]
     },
     "metadata": {},
     "output_type": "display_data"
    },
    {
     "name": "stdout",
     "output_type": "stream",
     "text": [
      "Epoch=017, train_loss=1.083, train_acc=0.333, valid_loss=1.087, valid_acc=0.333\n"
     ]
    },
    {
     "data": {
      "application/json": {
       "ascii": false,
       "bar_format": null,
       "colour": null,
       "elapsed": 0.009943008422851562,
       "initial": 0,
       "n": 0,
       "ncols": null,
       "nrows": null,
       "postfix": null,
       "prefix": "",
       "rate": null,
       "total": null,
       "unit": "it",
       "unit_divisor": 1000,
       "unit_scale": false
      },
      "application/vnd.jupyter.widget-view+json": {
       "model_id": "e13e4b30ca0d4403a4766141a5c8c962",
       "version_major": 2,
       "version_minor": 0
      },
      "text/plain": [
       "0it [00:00, ?it/s]"
      ]
     },
     "metadata": {},
     "output_type": "display_data"
    },
    {
     "data": {
      "application/json": {
       "ascii": false,
       "bar_format": null,
       "colour": null,
       "elapsed": 0.010165929794311523,
       "initial": 0,
       "n": 0,
       "ncols": null,
       "nrows": null,
       "postfix": null,
       "prefix": "",
       "rate": null,
       "total": null,
       "unit": "it",
       "unit_divisor": 1000,
       "unit_scale": false
      },
      "application/vnd.jupyter.widget-view+json": {
       "model_id": "01be7f3275d34171aaef300c5bf63176",
       "version_major": 2,
       "version_minor": 0
      },
      "text/plain": [
       "0it [00:00, ?it/s]"
      ]
     },
     "metadata": {},
     "output_type": "display_data"
    },
    {
     "data": {
      "application/json": {
       "ascii": false,
       "bar_format": null,
       "colour": null,
       "elapsed": 0.010849952697753906,
       "initial": 0,
       "n": 0,
       "ncols": null,
       "nrows": null,
       "postfix": null,
       "prefix": "",
       "rate": null,
       "total": null,
       "unit": "it",
       "unit_divisor": 1000,
       "unit_scale": false
      },
      "application/vnd.jupyter.widget-view+json": {
       "model_id": "91384bbd2d5b44309992fe81610f5587",
       "version_major": 2,
       "version_minor": 0
      },
      "text/plain": [
       "0it [00:00, ?it/s]"
      ]
     },
     "metadata": {},
     "output_type": "display_data"
    },
    {
     "name": "stdout",
     "output_type": "stream",
     "text": [
      "Epoch=018, train_loss=1.083, train_acc=0.333, valid_loss=1.089, valid_acc=0.333\n"
     ]
    },
    {
     "data": {
      "application/json": {
       "ascii": false,
       "bar_format": null,
       "colour": null,
       "elapsed": 0.010842084884643555,
       "initial": 0,
       "n": 0,
       "ncols": null,
       "nrows": null,
       "postfix": null,
       "prefix": "",
       "rate": null,
       "total": null,
       "unit": "it",
       "unit_divisor": 1000,
       "unit_scale": false
      },
      "application/vnd.jupyter.widget-view+json": {
       "model_id": "3f0de9f774ae478a9e8fe1536adf7e66",
       "version_major": 2,
       "version_minor": 0
      },
      "text/plain": [
       "0it [00:00, ?it/s]"
      ]
     },
     "metadata": {},
     "output_type": "display_data"
    },
    {
     "data": {
      "application/json": {
       "ascii": false,
       "bar_format": null,
       "colour": null,
       "elapsed": 0.010168790817260742,
       "initial": 0,
       "n": 0,
       "ncols": null,
       "nrows": null,
       "postfix": null,
       "prefix": "",
       "rate": null,
       "total": null,
       "unit": "it",
       "unit_divisor": 1000,
       "unit_scale": false
      },
      "application/vnd.jupyter.widget-view+json": {
       "model_id": "1ebd0b8374914a2d902eabe45ce8ccfd",
       "version_major": 2,
       "version_minor": 0
      },
      "text/plain": [
       "0it [00:00, ?it/s]"
      ]
     },
     "metadata": {},
     "output_type": "display_data"
    },
    {
     "data": {
      "application/json": {
       "ascii": false,
       "bar_format": null,
       "colour": null,
       "elapsed": 0.010464906692504883,
       "initial": 0,
       "n": 0,
       "ncols": null,
       "nrows": null,
       "postfix": null,
       "prefix": "",
       "rate": null,
       "total": null,
       "unit": "it",
       "unit_divisor": 1000,
       "unit_scale": false
      },
      "application/vnd.jupyter.widget-view+json": {
       "model_id": "74c50bc8c4f14043ab8a45f4bd09468e",
       "version_major": 2,
       "version_minor": 0
      },
      "text/plain": [
       "0it [00:00, ?it/s]"
      ]
     },
     "metadata": {},
     "output_type": "display_data"
    },
    {
     "name": "stdout",
     "output_type": "stream",
     "text": [
      "Epoch=019, train_loss=1.084, train_acc=0.333, valid_loss=1.089, valid_acc=0.333\n"
     ]
    },
    {
     "data": {
      "application/json": {
       "ascii": false,
       "bar_format": null,
       "colour": null,
       "elapsed": 0.010241031646728516,
       "initial": 0,
       "n": 0,
       "ncols": null,
       "nrows": null,
       "postfix": null,
       "prefix": "",
       "rate": null,
       "total": null,
       "unit": "it",
       "unit_divisor": 1000,
       "unit_scale": false
      },
      "application/vnd.jupyter.widget-view+json": {
       "model_id": "a0f522dad2774156a56af3e22810a12b",
       "version_major": 2,
       "version_minor": 0
      },
      "text/plain": [
       "0it [00:00, ?it/s]"
      ]
     },
     "metadata": {},
     "output_type": "display_data"
    },
    {
     "data": {
      "application/json": {
       "ascii": false,
       "bar_format": null,
       "colour": null,
       "elapsed": 0.011672735214233398,
       "initial": 0,
       "n": 0,
       "ncols": null,
       "nrows": null,
       "postfix": null,
       "prefix": "",
       "rate": null,
       "total": null,
       "unit": "it",
       "unit_divisor": 1000,
       "unit_scale": false
      },
      "application/vnd.jupyter.widget-view+json": {
       "model_id": "d117f5eae7f34d92896f8ab31b16a1a5",
       "version_major": 2,
       "version_minor": 0
      },
      "text/plain": [
       "0it [00:00, ?it/s]"
      ]
     },
     "metadata": {},
     "output_type": "display_data"
    },
    {
     "data": {
      "application/json": {
       "ascii": false,
       "bar_format": null,
       "colour": null,
       "elapsed": 0.009985923767089844,
       "initial": 0,
       "n": 0,
       "ncols": null,
       "nrows": null,
       "postfix": null,
       "prefix": "",
       "rate": null,
       "total": null,
       "unit": "it",
       "unit_divisor": 1000,
       "unit_scale": false
      },
      "application/vnd.jupyter.widget-view+json": {
       "model_id": "4865c08e0df04e1288d37fd3ee9b23cb",
       "version_major": 2,
       "version_minor": 0
      },
      "text/plain": [
       "0it [00:00, ?it/s]"
      ]
     },
     "metadata": {},
     "output_type": "display_data"
    },
    {
     "name": "stdout",
     "output_type": "stream",
     "text": [
      "Epoch=020, train_loss=1.084, train_acc=0.333, valid_loss=1.089, valid_acc=0.333\n"
     ]
    },
    {
     "data": {
      "application/json": {
       "ascii": false,
       "bar_format": null,
       "colour": null,
       "elapsed": 0.009665966033935547,
       "initial": 0,
       "n": 0,
       "ncols": null,
       "nrows": null,
       "postfix": null,
       "prefix": "",
       "rate": null,
       "total": null,
       "unit": "it",
       "unit_divisor": 1000,
       "unit_scale": false
      },
      "application/vnd.jupyter.widget-view+json": {
       "model_id": "dd8f6bcad02a4bf6a18157526b014913",
       "version_major": 2,
       "version_minor": 0
      },
      "text/plain": [
       "0it [00:00, ?it/s]"
      ]
     },
     "metadata": {},
     "output_type": "display_data"
    },
    {
     "data": {
      "application/json": {
       "ascii": false,
       "bar_format": null,
       "colour": null,
       "elapsed": 0.010307788848876953,
       "initial": 0,
       "n": 0,
       "ncols": null,
       "nrows": null,
       "postfix": null,
       "prefix": "",
       "rate": null,
       "total": null,
       "unit": "it",
       "unit_divisor": 1000,
       "unit_scale": false
      },
      "application/vnd.jupyter.widget-view+json": {
       "model_id": "8372a72e3db340b6b0c90a553cf951fe",
       "version_major": 2,
       "version_minor": 0
      },
      "text/plain": [
       "0it [00:00, ?it/s]"
      ]
     },
     "metadata": {},
     "output_type": "display_data"
    },
    {
     "data": {
      "application/json": {
       "ascii": false,
       "bar_format": null,
       "colour": null,
       "elapsed": 0.01016688346862793,
       "initial": 0,
       "n": 0,
       "ncols": null,
       "nrows": null,
       "postfix": null,
       "prefix": "",
       "rate": null,
       "total": null,
       "unit": "it",
       "unit_divisor": 1000,
       "unit_scale": false
      },
      "application/vnd.jupyter.widget-view+json": {
       "model_id": "96e3cbd758b44d38915db453718f33ca",
       "version_major": 2,
       "version_minor": 0
      },
      "text/plain": [
       "0it [00:00, ?it/s]"
      ]
     },
     "metadata": {},
     "output_type": "display_data"
    },
    {
     "name": "stdout",
     "output_type": "stream",
     "text": [
      "Epoch=021, train_loss=1.082, train_acc=0.333, valid_loss=1.088, valid_acc=0.333\n"
     ]
    },
    {
     "data": {
      "application/json": {
       "ascii": false,
       "bar_format": null,
       "colour": null,
       "elapsed": 0.010716915130615234,
       "initial": 0,
       "n": 0,
       "ncols": null,
       "nrows": null,
       "postfix": null,
       "prefix": "",
       "rate": null,
       "total": null,
       "unit": "it",
       "unit_divisor": 1000,
       "unit_scale": false
      },
      "application/vnd.jupyter.widget-view+json": {
       "model_id": "03240ea6c6064839a8de55c9ae96d82d",
       "version_major": 2,
       "version_minor": 0
      },
      "text/plain": [
       "0it [00:00, ?it/s]"
      ]
     },
     "metadata": {},
     "output_type": "display_data"
    },
    {
     "data": {
      "application/json": {
       "ascii": false,
       "bar_format": null,
       "colour": null,
       "elapsed": 0.010343790054321289,
       "initial": 0,
       "n": 0,
       "ncols": null,
       "nrows": null,
       "postfix": null,
       "prefix": "",
       "rate": null,
       "total": null,
       "unit": "it",
       "unit_divisor": 1000,
       "unit_scale": false
      },
      "application/vnd.jupyter.widget-view+json": {
       "model_id": "35ccff95d9a44d57945a0745041df3b6",
       "version_major": 2,
       "version_minor": 0
      },
      "text/plain": [
       "0it [00:00, ?it/s]"
      ]
     },
     "metadata": {},
     "output_type": "display_data"
    },
    {
     "data": {
      "application/json": {
       "ascii": false,
       "bar_format": null,
       "colour": null,
       "elapsed": 0.011491775512695312,
       "initial": 0,
       "n": 0,
       "ncols": null,
       "nrows": null,
       "postfix": null,
       "prefix": "",
       "rate": null,
       "total": null,
       "unit": "it",
       "unit_divisor": 1000,
       "unit_scale": false
      },
      "application/vnd.jupyter.widget-view+json": {
       "model_id": "e5a01bba1fd545259b285d302932f5f3",
       "version_major": 2,
       "version_minor": 0
      },
      "text/plain": [
       "0it [00:00, ?it/s]"
      ]
     },
     "metadata": {},
     "output_type": "display_data"
    },
    {
     "name": "stdout",
     "output_type": "stream",
     "text": [
      "Epoch=022, train_loss=1.082, train_acc=0.333, valid_loss=1.087, valid_acc=0.333\n"
     ]
    },
    {
     "data": {
      "application/json": {
       "ascii": false,
       "bar_format": null,
       "colour": null,
       "elapsed": 0.010156869888305664,
       "initial": 0,
       "n": 0,
       "ncols": null,
       "nrows": null,
       "postfix": null,
       "prefix": "",
       "rate": null,
       "total": null,
       "unit": "it",
       "unit_divisor": 1000,
       "unit_scale": false
      },
      "application/vnd.jupyter.widget-view+json": {
       "model_id": "847b3ac48d3c41b1a4f7424b4ef4a78b",
       "version_major": 2,
       "version_minor": 0
      },
      "text/plain": [
       "0it [00:00, ?it/s]"
      ]
     },
     "metadata": {},
     "output_type": "display_data"
    },
    {
     "data": {
      "application/json": {
       "ascii": false,
       "bar_format": null,
       "colour": null,
       "elapsed": 0.010698080062866211,
       "initial": 0,
       "n": 0,
       "ncols": null,
       "nrows": null,
       "postfix": null,
       "prefix": "",
       "rate": null,
       "total": null,
       "unit": "it",
       "unit_divisor": 1000,
       "unit_scale": false
      },
      "application/vnd.jupyter.widget-view+json": {
       "model_id": "52daebe9c25f4c4b912b96dd7517b854",
       "version_major": 2,
       "version_minor": 0
      },
      "text/plain": [
       "0it [00:00, ?it/s]"
      ]
     },
     "metadata": {},
     "output_type": "display_data"
    },
    {
     "data": {
      "application/json": {
       "ascii": false,
       "bar_format": null,
       "colour": null,
       "elapsed": 0.011082887649536133,
       "initial": 0,
       "n": 0,
       "ncols": null,
       "nrows": null,
       "postfix": null,
       "prefix": "",
       "rate": null,
       "total": null,
       "unit": "it",
       "unit_divisor": 1000,
       "unit_scale": false
      },
      "application/vnd.jupyter.widget-view+json": {
       "model_id": "a8eb55392fb94a1481ce0d454f3a1d26",
       "version_major": 2,
       "version_minor": 0
      },
      "text/plain": [
       "0it [00:00, ?it/s]"
      ]
     },
     "metadata": {},
     "output_type": "display_data"
    },
    {
     "name": "stdout",
     "output_type": "stream",
     "text": [
      "Epoch=023, train_loss=1.082, train_acc=0.333, valid_loss=1.088, valid_acc=0.333\n"
     ]
    },
    {
     "data": {
      "application/json": {
       "ascii": false,
       "bar_format": null,
       "colour": null,
       "elapsed": 0.011271953582763672,
       "initial": 0,
       "n": 0,
       "ncols": null,
       "nrows": null,
       "postfix": null,
       "prefix": "",
       "rate": null,
       "total": null,
       "unit": "it",
       "unit_divisor": 1000,
       "unit_scale": false
      },
      "application/vnd.jupyter.widget-view+json": {
       "model_id": "a10c9159c94a4887a43728d9e15182aa",
       "version_major": 2,
       "version_minor": 0
      },
      "text/plain": [
       "0it [00:00, ?it/s]"
      ]
     },
     "metadata": {},
     "output_type": "display_data"
    },
    {
     "data": {
      "application/json": {
       "ascii": false,
       "bar_format": null,
       "colour": null,
       "elapsed": 0.011688232421875,
       "initial": 0,
       "n": 0,
       "ncols": null,
       "nrows": null,
       "postfix": null,
       "prefix": "",
       "rate": null,
       "total": null,
       "unit": "it",
       "unit_divisor": 1000,
       "unit_scale": false
      },
      "application/vnd.jupyter.widget-view+json": {
       "model_id": "003eaab463bb4cd0aed15e8e131733f0",
       "version_major": 2,
       "version_minor": 0
      },
      "text/plain": [
       "0it [00:00, ?it/s]"
      ]
     },
     "metadata": {},
     "output_type": "display_data"
    },
    {
     "data": {
      "application/json": {
       "ascii": false,
       "bar_format": null,
       "colour": null,
       "elapsed": 0.010798215866088867,
       "initial": 0,
       "n": 0,
       "ncols": null,
       "nrows": null,
       "postfix": null,
       "prefix": "",
       "rate": null,
       "total": null,
       "unit": "it",
       "unit_divisor": 1000,
       "unit_scale": false
      },
      "application/vnd.jupyter.widget-view+json": {
       "model_id": "49b9d7f45ef0431e9010d0fcf78bc424",
       "version_major": 2,
       "version_minor": 0
      },
      "text/plain": [
       "0it [00:00, ?it/s]"
      ]
     },
     "metadata": {},
     "output_type": "display_data"
    },
    {
     "name": "stdout",
     "output_type": "stream",
     "text": [
      "Epoch=024, train_loss=1.082, train_acc=0.333, valid_loss=1.089, valid_acc=0.333\n"
     ]
    }
   ],
   "source": [
    "# Now, let us do the training loop!\n",
    "# There may be things that you are not so familiar with, \n",
    "# but dont worry, these things will come quite quickly\n",
    "# Also, don't be fooled by the length of this code block.\n",
    "# Without all those comments the actual number of lines is quite low\n",
    "\n",
    "#1. let's define for how many epochs we want to train\n",
    "n_epochs = 25\n",
    "\n",
    "# set some variables to save loss and accuracy curves etc.\n",
    "# we can use these variables to make pretty graphs showing us\n",
    "# how well/fast the network learned and how well it performes\n",
    "# over training time\n",
    "loss_acc = []\n",
    "train_stats, valid_stats = [], []\n",
    "\n",
    "#2. loop over these epochs\n",
    "for epoch in range(n_epochs):\n",
    "    #to train the network, we call its .fit function\n",
    "    #The .fit() function by default calls the standard_train\n",
    "    #function as defined above. We therefore need to supply some variables.\n",
    "    #Additionally, we get two outputs from the train function: the loss, and some stats\n",
    "    _, _ = network.fit(loader, device=device, train=True) # note, we could also change the learning rate if we wanted\n",
    "\n",
    "    # for validating or testing set the network into evaluation mode such that layers like dropout are\n",
    "    # not active. This is important because if we were to compare the validation/test curves with those\n",
    "    # of the training curve while dropout is still active, we would likely see the validation/test\n",
    "    # data to be better classified than the training data. And that should NEVER be the case.\n",
    "    with torch.no_grad():\n",
    "        tloss, tstats = network.fit(loader, device=device, train=False)\n",
    "        vloss, vstats = network.fit(test_loader, device=device, train=False)\n",
    "\n",
    "    # the model.fit() method has 2 output parameters: loss, stats = model.fit()\n",
    "    # the first parameter is simply the loss for each sample\n",
    "    # the second parameter is a matrix of n_classes+2-by-n_samples\n",
    "    # the first n_classes columns are the output probabilities of the model per class\n",
    "    # the second to last column (i.e., [:, -2]) represents the real labels\n",
    "    # the last column (i.e., [:, -1]) represents the predicted labels\n",
    "    tacc = compute_accuracy(tstats[:, -2], tstats[:, -1])\n",
    "    vacc = compute_accuracy(vstats[:, -2], vstats[:, -1])\n",
    "    \n",
    "    # we can now assign all the output we got to some nice datastructure that makes plotting\n",
    "    # and computing various stats really easy\n",
    "    loss_acc.append(pd.DataFrame([[tloss, vloss, tacc, vacc]],\n",
    "                                 columns=[\"train_loss\", \"valid_loss\", \"train_acc\", \"valid_acc\"]))\n",
    "\n",
    "    train_stats.append(pd.DataFrame(tstats.tolist(), columns=[*dataset.classes, *[\"real\", \"predicted\"]]))\n",
    "    train_stats[epoch][\"epoch\"] = epoch\n",
    "    valid_stats.append(pd.DataFrame(vstats.tolist(), columns=[*dataset.classes, *[\"real\", \"predicted\"]]))\n",
    "    valid_stats[epoch][\"epoch\"] = epoch\n",
    "    \n",
    "    # lastly, we want some immediate output to see how the network performs\n",
    "    print('Epoch=%03d, train_loss=%2.3f, train_acc=%1.3f, valid_loss=%2.3f, valid_acc=%1.3f' %\n",
    "          (epoch, tloss, tacc, vloss, vacc))\n",
    "    \n",
    "# After the loop is done, we can convert the stat lists into so-called pandas dataframes for further processing.\n",
    "df_loss_acc = pd.concat(loss_acc).reset_index(drop=True)\n",
    "df_train_stats = pd.concat(train_stats)\n",
    "df_valid_stats = pd.concat(valid_stats)"
   ]
  },
  {
   "cell_type": "markdown",
   "id": "33e5c3aa-6072-4f73-beb5-ac6dc05acce8",
   "metadata": {},
   "source": [
    "### Let's plot some graphs"
   ]
  },
  {
   "cell_type": "code",
   "execution_count": 19,
   "id": "8c050c01-25fd-49fc-a82f-353cc37d41f3",
   "metadata": {},
   "outputs": [],
   "source": [
    "from delphi.utils.plots import confusion_matrix\n",
    "import matplotlib.pyplot as plt\n",
    "import seaborn as sns # this is a cool toolbox to create beautiful plots using pandas dataframes"
   ]
  },
  {
   "cell_type": "code",
   "execution_count": 20,
   "id": "572a57d1-399d-4c37-8901-9134d3164d2a",
   "metadata": {},
   "outputs": [
    {
     "data": {
      "image/png": "[encoded data removed]",
      "text/plain": [
       "<Figure size 576x576 with 4 Axes>"
      ]
     },
     "metadata": {
      "needs_background": "light"
     },
     "output_type": "display_data"
    }
   ],
   "source": [
    "df_loss_acc[\"epoch\"] = df_loss_acc.index\n",
    "fig, axes = plt.subplots(2, 2, figsize=(8, 8))\n",
    "# plot the loss curves\n",
    "sns.lineplot(ax=axes[0, 0], data=df_loss_acc.melt(value_vars=[\"train_loss\", \"valid_loss\"], \n",
    "                                               id_vars=\"epoch\", var_name=\"loss\", value_name=\"CrossEntropyLoss\"), \n",
    "             x=\"epoch\", y=\"CrossEntropyLoss\", style=\"loss\", hue=\"loss\", markers=True, markersize=6, linewidth=2);\n",
    "\n",
    "# plot the accuracy curves\n",
    "sns.lineplot(ax=axes[0, 1], data=df_loss_acc.melt(value_vars=[\"train_acc\", \"valid_acc\"], id_vars=\"epoch\", var_name=\"acc\", value_name=\"accuracy\"), \n",
    "             x=\"epoch\", y=\"accuracy\", style=\"acc\", hue=\"acc\", markers=True, markersize=6, linewidth=2);\n",
    "\n",
    "# we can also check out the classification performance in form of confusion matrices\n",
    "last_epoch_data = df_train_stats[df_train_stats.epoch == n_epochs-1]\n",
    "confusion_matrix(last_epoch_data.real, last_epoch_data.predicted, dataset.classes, ax=axes[1,0]);\n",
    "\n",
    "last_epoch_data = df_valid_stats[df_valid_stats.epoch == n_epochs-1]\n",
    "confusion_matrix(last_epoch_data.real, last_epoch_data.predicted, dataset.classes, ax=axes[1,1]);\n",
    "\n",
    "fig.tight_layout()"
   ]
  },
  {
   "cell_type": "markdown",
   "id": "99818ec5-679d-43e3-b619-8e7cf77b7671",
   "metadata": {},
   "source": [
    "Now, the dataset in this example is obviously way to small to make any claims. It is afterall just to show how to use the toolbox. </br>\n",
    "That's all for the basics of the delphi toolbox and I hope it became clear how usefull it can be :-)."
   ]
  },
  {
   "cell_type": "code",
   "execution_count": null,
   "id": "2e736575-b363-4629-b64a-8c238fab3748",
   "metadata": {},
   "outputs": [],
   "source": []
  }
 ],
 "metadata": {
  "kernelspec": {
   "display_name": "Python 3",
   "language": "python",
   "name": "python3"
  },
  "language_info": {
   "codemirror_mode": {
    "name": "ipython",
    "version": 3
   },
   "file_extension": ".py",
   "mimetype": "text/x-python",
   "name": "python",
   "nbconvert_exporter": "python",
   "pygments_lexer": "ipython3",
   "version": "3.8.13"
  }
 },
 "nbformat": 4,
 "nbformat_minor": 5
}
